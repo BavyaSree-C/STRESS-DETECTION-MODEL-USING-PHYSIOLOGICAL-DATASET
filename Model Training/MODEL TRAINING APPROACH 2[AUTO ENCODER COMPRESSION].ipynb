{
 "cells": [
  {
   "cell_type": "code",
   "execution_count": 1,
   "id": "4aeb8578-a3d2-4532-83ed-0fbb0b08e655",
   "metadata": {},
   "outputs": [],
   "source": [
    "import numpy as np\n",
    "import matplotlib.pyplot as plt\n",
    "import pandas as pd\n",
    "from sklearn.preprocessing import StandardScaler\n",
    "from torch.utils.data import Dataset, DataLoader\n"
   ]
  },
  {
   "cell_type": "code",
   "execution_count": 2,
   "id": "02e3a8d4-e164-4656-8910-f6e44c2a6af2",
   "metadata": {},
   "outputs": [],
   "source": [
    "df=pd.read_csv(r'filtered_data.csv')"
   ]
  },
  {
   "cell_type": "code",
   "execution_count": 3,
   "id": "c5929271-d304-4205-a291-fd91a4465689",
   "metadata": {},
   "outputs": [],
   "source": [
    "# Assuming your DataFrame `df` is already loaded\n",
    "sensor_columns = ['chest_ACC_x', 'chest_ACC_y', 'chest_ACC_z', 'chest_ECG', 'chest_EMG', 'chest_EDA', 'chest_Temp', 'chest_Resp']\n",
    "\n",
    "# 1. Normalize sensor data\n",
    "scaler = StandardScaler()\n",
    "df[sensor_columns] = scaler.fit_transform(df[sensor_columns])\n",
    "\n",
    "# 2. Prepare data into sequences\n",
    "sequence_length = 100  # Set this based on your dataset\n",
    "class WESADDataset(Dataset):\n",
    "    def __init__(self, df, sequence_length):\n",
    "        self.labels = df['label'].values\n",
    "        self.data = df[sensor_columns].values\n",
    "        self.sequence_length = sequence_length\n",
    "\n",
    "    def __len__(self):\n",
    "        return len(self.data) - self.sequence_length\n",
    "\n",
    "    def __getitem__(self, idx):\n",
    "        x = self.data[idx:idx + self.sequence_length]\n",
    "        y = self.labels[idx + self.sequence_length - 1]\n",
    "        return x, y\n",
    "\n",
    "dataset = WESADDataset(df, sequence_length)\n",
    "dataloader = DataLoader(dataset, batch_size=32, shuffle=True)\n"
   ]
  },
  {
   "cell_type": "code",
   "execution_count": 5,
   "id": "c011fcd0-39ba-446d-9bd7-d712ef79c2a4",
   "metadata": {},
   "outputs": [
    {
     "data": {
      "text/plain": [
       "<torch.utils.data.dataloader.DataLoader at 0x218ca64ae90>"
      ]
     },
     "execution_count": 5,
     "metadata": {},
     "output_type": "execute_result"
    }
   ],
   "source": [
    "dataloader"
   ]
  },
  {
   "cell_type": "code",
   "execution_count": 7,
   "id": "5ed1c73c-3be5-49a2-82d7-f0d9d0aa48a1",
   "metadata": {},
   "outputs": [
    {
     "name": "stdout",
     "output_type": "stream",
     "text": [
      "Epoch 1/10, Loss: 0.11941670626401901\n",
      "Epoch 2/10, Loss: 0.11615324765443802\n",
      "Epoch 3/10, Loss: 0.07671599090099335\n",
      "Epoch 4/10, Loss: 0.10358940064907074\n",
      "Epoch 5/10, Loss: 0.11077097803354263\n",
      "Epoch 6/10, Loss: 0.11354660242795944\n",
      "Epoch 7/10, Loss: 0.12414565682411194\n",
      "Epoch 8/10, Loss: 0.11730360984802246\n",
      "Epoch 9/10, Loss: 0.10712585598230362\n",
      "Epoch 10/10, Loss: 0.09497424215078354\n"
     ]
    }
   ],
   "source": [
    "import torch\n",
    "import torch.nn as nn\n",
    "import torch.optim as optim\n",
    "\n",
    "class Autoencoder(nn.Module):\n",
    "    def __init__(self, input_dim, hidden_dim=64, encoding_dim=32):\n",
    "        super(Autoencoder, self).__init__()\n",
    "        # Encoder\n",
    "        self.encoder = nn.Sequential(\n",
    "            nn.Linear(input_dim, hidden_dim),\n",
    "            nn.ReLU(),\n",
    "            nn.Linear(hidden_dim, encoding_dim),\n",
    "            nn.ReLU()\n",
    "        )\n",
    "        # Decoder\n",
    "        self.decoder = nn.Sequential(\n",
    "            nn.Linear(encoding_dim, hidden_dim),\n",
    "            nn.ReLU(),\n",
    "            nn.Linear(hidden_dim, input_dim)\n",
    "        )\n",
    "\n",
    "    def forward(self, x):\n",
    "        encoded = self.encoder(x)\n",
    "        decoded = self.decoder(encoded)\n",
    "        return encoded, decoded\n",
    "\n",
    "# Initialize Autoencoder\n",
    "input_dim = sequence_length * len(sensor_columns)\n",
    "autoencoder = Autoencoder(input_dim=input_dim)\n",
    "\n",
    "# Train the autoencoder\n",
    "def train_autoencoder(autoencoder, dataloader, epochs=10):\n",
    "    criterion = nn.MSELoss()\n",
    "    optimizer = optim.Adam(autoencoder.parameters(), lr=0.001)\n",
    "\n",
    "    for epoch in range(epochs):\n",
    "        for sequences, _ in dataloader:\n",
    "            sequences = sequences.view(sequences.size(0), -1).float()  # Flatten the sequences\n",
    "            encoded, decoded = autoencoder(sequences)\n",
    "            loss = criterion(decoded, sequences)\n",
    "            \n",
    "            optimizer.zero_grad()\n",
    "            loss.backward()\n",
    "            optimizer.step()\n",
    "        \n",
    "        print(f'Epoch {epoch + 1}/{epochs}, Loss: {loss.item()}')\n",
    "\n",
    "train_autoencoder(autoencoder, dataloader)\n"
   ]
  },
  {
   "cell_type": "code",
   "execution_count": 8,
   "id": "ae02253d-877a-4f50-84e4-5faa3112dd2b",
   "metadata": {},
   "outputs": [],
   "source": [
    "compressed_features = []\n",
    "labels = []\n",
    "with torch.no_grad():\n",
    "    for sequences, label in dataloader:\n",
    "        sequences = sequences.view(sequences.size(0), -1).float()\n",
    "        encoded, _ = autoencoder(sequences)\n",
    "        compressed_features.append(encoded)\n",
    "        labels.append(label)\n",
    "\n",
    "compressed_features = torch.cat(compressed_features)\n",
    "labels = torch.cat(labels)\n"
   ]
  },
  {
   "cell_type": "code",
   "execution_count": 9,
   "id": "1bfe88e1-e440-4b4b-9116-315c0f5c5b7a",
   "metadata": {
    "scrolled": true
   },
   "outputs": [
    {
     "name": "stdout",
     "output_type": "stream",
     "text": [
      "Shape of compressed features: torch.Size([5128256, 32])\n",
      "Sample compressed features:\n",
      " tensor([[1.4854, 4.5527, 4.1314, 2.7329, 2.5833, 1.5376, 0.0000, 1.2473, 3.4496,\n",
      "         0.8661, 0.0000, 1.4364, 0.9917, 1.9666, 1.7550, 1.4973, 0.5905, 0.0000,\n",
      "         1.8036, 4.7737, 0.7741, 0.0000, 3.1547, 0.0000, 7.2852, 1.8069, 1.1083,\n",
      "         1.7209, 7.5542, 5.7626, 0.0000, 0.0000],\n",
      "        [2.2259, 0.3490, 2.4058, 1.9578, 4.4107, 0.1030, 0.0000, 3.2466, 3.2064,\n",
      "         6.0168, 0.0000, 0.8798, 1.6959, 5.5112, 1.9753, 1.2332, 1.2592, 2.0299,\n",
      "         1.6116, 3.9006, 1.9024, 0.0000, 5.5694, 0.0000, 4.7534, 1.5819, 0.6230,\n",
      "         1.6578, 0.5552, 4.8985, 0.0000, 0.0000],\n",
      "        [1.2717, 3.9236, 3.8350, 1.9377, 1.4747, 1.1834, 0.0000, 2.3352, 3.6959,\n",
      "         3.4154, 0.0000, 2.0893, 1.5358, 2.6810, 4.3121, 0.7366, 1.4146, 1.3679,\n",
      "         0.8295, 4.1262, 0.9337, 0.0000, 4.6844, 0.0000, 2.6083, 3.8802, 1.1624,\n",
      "         1.5310, 1.0191, 1.5394, 0.0000, 0.0000],\n",
      "        [1.1415, 2.2642, 2.6331, 4.8956, 6.9089, 2.2410, 0.0000, 0.4043, 2.0828,\n",
      "         3.6298, 0.0000, 1.4083, 1.9236, 4.5866, 6.6620, 0.7387, 1.6578, 2.6276,\n",
      "         2.4524, 4.2322, 0.7863, 0.0000, 5.9445, 0.0000, 3.5424, 5.4630, 4.2868,\n",
      "         1.0493, 4.9176, 7.7089, 0.0000, 0.0000],\n",
      "        [1.2927, 2.8013, 4.0469, 2.1576, 1.8292, 1.4029, 0.0000, 1.1153, 2.0998,\n",
      "         3.3050, 0.0000, 1.2356, 1.2989, 2.1409, 1.1677, 1.3161, 0.9908, 1.0754,\n",
      "         1.8060, 3.8108, 1.3171, 0.0000, 5.1480, 0.0000, 2.2662, 2.8182, 1.0435,\n",
      "         0.8594, 1.2478, 5.3536, 0.0000, 0.0000]])\n",
      "Shape of labels: torch.Size([5128256])\n",
      "Sample labels: tensor([2, 2, 0, 0, 3])\n"
     ]
    }
   ],
   "source": [
    "# View the shape of compressed features\n",
    "print(\"Shape of compressed features:\", compressed_features.shape)\n",
    "\n",
    "# View the first few rows of compressed features\n",
    "print(\"Sample compressed features:\\n\", compressed_features[:5])  # Display first 5 sequences\n",
    "\n",
    "# View the shape and contents of the corresponding labels\n",
    "print(\"Shape of labels:\", labels.shape)\n",
    "print(\"Sample labels:\", labels[:5])\n"
   ]
  },
  {
   "cell_type": "code",
   "execution_count": 10,
   "id": "0622ff68-440e-4b9e-906b-0d145ae9ead6",
   "metadata": {},
   "outputs": [
    {
     "data": {
      "text/plain": [
       "(5128356, 10)"
      ]
     },
     "execution_count": 10,
     "metadata": {},
     "output_type": "execute_result"
    }
   ],
   "source": [
    "df.shape"
   ]
  },
  {
   "cell_type": "code",
   "execution_count": 11,
   "id": "08018e80-f774-4b0c-9589-3fb17f4b94e1",
   "metadata": {},
   "outputs": [
    {
     "name": "stdout",
     "output_type": "stream",
     "text": [
      "Reshaped data shape: (51283, 100, 8)\n"
     ]
    }
   ],
   "source": [
    "import torch\n",
    "\n",
    "# Reshape data into sequences\n",
    "sequence_length = 100  # Adjust based on your choice\n",
    "num_sequences = len(df) // sequence_length  # Integer division to get full sequences\n",
    "\n",
    "# Reshape and truncate to ensure all data fits into sequences\n",
    "reshaped_data = df[sensor_columns].values[:num_sequences * sequence_length].reshape(num_sequences, sequence_length, -1)\n",
    "\n",
    "# Verify reshaped dimensions\n",
    "print(\"Reshaped data shape:\", reshaped_data.shape)\n"
   ]
  },
  {
   "cell_type": "code",
   "execution_count": 15,
   "id": "7469da14-5653-44b9-9ee1-3fad8f861071",
   "metadata": {},
   "outputs": [],
   "source": [
    "class SequenceAutoencoder(nn.Module):\n",
    "    def __init__(self, input_dim, sequence_length, hidden_dim=64, encoding_dim=32):\n",
    "        super(SequenceAutoencoder, self).__init__()\n",
    "        # Encoder with Conv1d to handle sequence data\n",
    "        self.encoder = nn.Sequential(\n",
    "            nn.Conv1d(input_dim, hidden_dim, kernel_size=3, stride=1, padding=1),\n",
    "            nn.ReLU(),\n",
    "            nn.Conv1d(hidden_dim, encoding_dim, kernel_size=3, stride=1, padding=1),\n",
    "            nn.ReLU()\n",
    "        )\n",
    "        # Decoder with ConvTranspose1d to reconstruct the sequence\n",
    "        self.decoder = nn.Sequential(\n",
    "            nn.ConvTranspose1d(encoding_dim, hidden_dim, kernel_size=3, stride=1, padding=1),\n",
    "            nn.ReLU(),\n",
    "            nn.ConvTranspose1d(hidden_dim, input_dim, kernel_size=3, stride=1, padding=1),\n",
    "            nn.Sigmoid()  # Use sigmoid to bound outputs between 0 and 1\n",
    "        )\n",
    "\n",
    "    def forward(self, x):\n",
    "        # x shape: (batch_size, sequence_length, input_dim)\n",
    "        x = x.permute(0, 2, 1)  # Convert to (batch_size, input_dim, sequence_length) for Conv1d\n",
    "        encoded = self.encoder(x)\n",
    "        decoded = self.decoder(encoded)\n",
    "        decoded = decoded.permute(0, 2, 1)  # Convert back to (batch_size, sequence_length, input_dim)\n",
    "        return encoded, decoded\n",
    "\n",
    "# Initialize the updated autoencoder with sequence handling\n",
    "input_dim = len(sensor_columns)\n",
    "sequence_length = 100  # Adjust to the desired length\n",
    "autoencoder = SequenceAutoencoder(input_dim=input_dim, sequence_length=sequence_length)\n"
   ]
  },
  {
   "cell_type": "code",
   "execution_count": 16,
   "id": "455b3761-4168-4d04-a7ac-a340789aad94",
   "metadata": {},
   "outputs": [],
   "source": [
    "from torch.utils.data import DataLoader, TensorDataset\n",
    "\n",
    "# Create DataLoader for sequence data\n",
    "# Assuming reshaped_data is already structured as (num_sequences, sequence_length, input_dim)\n",
    "sequence_data = torch.tensor(reshaped_data, dtype=torch.float32)\n",
    "sequence_labels = torch.tensor(df['label'].values[:num_sequences * sequence_length].reshape(num_sequences, sequence_length)[:, -1])\n",
    "\n",
    "sequence_dataset = TensorDataset(sequence_data, sequence_labels)\n",
    "sequence_loader = DataLoader(sequence_dataset, batch_size=32, shuffle=True)\n",
    "\n"
   ]
  },
  {
   "cell_type": "code",
   "execution_count": 17,
   "id": "5caa3dcb-27fa-4b7d-b0f8-00dcfae7b884",
   "metadata": {},
   "outputs": [
    {
     "name": "stdout",
     "output_type": "stream",
     "text": [
      "Epoch 1/10, Loss: 0.49658674001693726\n",
      "Epoch 2/10, Loss: 0.421083927154541\n",
      "Epoch 3/10, Loss: 0.5324689149856567\n",
      "Epoch 4/10, Loss: 0.485059529542923\n",
      "Epoch 5/10, Loss: 0.43303829431533813\n",
      "Epoch 6/10, Loss: 0.7635204195976257\n",
      "Epoch 7/10, Loss: 0.4499130845069885\n",
      "Epoch 8/10, Loss: 0.6334110498428345\n",
      "Epoch 9/10, Loss: 0.4530365765094757\n",
      "Epoch 10/10, Loss: 0.531245768070221\n"
     ]
    }
   ],
   "source": [
    "def train_autoencoder(autoencoder, dataloader, epochs=10):\n",
    "    criterion = nn.MSELoss()\n",
    "    optimizer = torch.optim.Adam(autoencoder.parameters(), lr=0.001)\n",
    "\n",
    "    for epoch in range(epochs):\n",
    "        for sequences, _ in dataloader:\n",
    "            encoded, decoded = autoencoder(sequences)\n",
    "            loss = criterion(decoded, sequences)  # MSE loss will now work correctly\n",
    "            \n",
    "            optimizer.zero_grad()\n",
    "            loss.backward()\n",
    "            optimizer.step()\n",
    "        \n",
    "        print(f'Epoch {epoch + 1}/{epochs}, Loss: {loss.item()}')\n",
    "\n",
    "train_autoencoder(autoencoder, sequence_loader)\n"
   ]
  },
  {
   "cell_type": "code",
   "execution_count": 18,
   "id": "eecef662-dcbe-45fb-a7cc-e26a53719b48",
   "metadata": {},
   "outputs": [
    {
     "name": "stdout",
     "output_type": "stream",
     "text": [
      "Shape of compressed features: torch.Size([51283, 32, 100])\n",
      "Shape of labels: torch.Size([51283])\n"
     ]
    }
   ],
   "source": [
    "compressed_features = []\n",
    "labels = []\n",
    "\n",
    "# Ensure the model is in evaluation mode for inference\n",
    "autoencoder.eval()\n",
    "\n",
    "with torch.no_grad():\n",
    "    for sequences, label in sequence_loader:\n",
    "        # Extract the compressed (encoded) features\n",
    "        encoded, _ = autoencoder(sequences)\n",
    "        compressed_features.append(encoded)\n",
    "        labels.append(label)\n",
    "\n",
    "# Concatenate all batches to form the complete dataset\n",
    "compressed_features = torch.cat(compressed_features)\n",
    "labels = torch.cat(labels)\n",
    "\n",
    "# View the shape of compressed features\n",
    "print(\"Shape of compressed features:\", compressed_features.shape)  # Expected: (num_sequences, encoding_dim, sequence_length)\n",
    "print(\"Shape of labels:\", labels.shape)\n"
   ]
  },
  {
   "cell_type": "code",
   "execution_count": 21,
   "id": "7925f10d-9a05-49b2-8efc-81c70d6fa68c",
   "metadata": {},
   "outputs": [],
   "source": [
    "# Permute compressed_features if necessary\n",
    "compressed_features = compressed_features.permute(0, 2, 1)  # Change to [num_sequences, sequence_length, encoding_dim]\n"
   ]
  },
  {
   "cell_type": "code",
   "execution_count": 22,
   "id": "d84e13b1-5f63-4fc1-a3ad-f0d95d685d6e",
   "metadata": {},
   "outputs": [],
   "source": [
    "class LSTMModel(nn.Module):\n",
    "    def __init__(self, input_dim, hidden_dim, output_dim, n_layers=2):\n",
    "        super(LSTMModel, self).__init__()\n",
    "        self.lstm = nn.LSTM(input_dim, hidden_dim, n_layers, batch_first=True)\n",
    "        self.fc = nn.Linear(hidden_dim, output_dim)\n",
    "\n",
    "    def forward(self, x):\n",
    "        h, _ = self.lstm(x)\n",
    "        out = self.fc(h[:, -1, :])  # Take the last time step output\n",
    "        return out\n",
    "\n",
    "# Initialize LSTM model\n",
    "input_dim = compressed_features.size(2)  # encoding_dim\n",
    "hidden_dim = 64\n",
    "output_dim = len(df['label'].unique())  # Number of classes for classification\n",
    "lstm_model = LSTMModel(input_dim=input_dim, hidden_dim=hidden_dim, output_dim=output_dim)\n"
   ]
  },
  {
   "cell_type": "code",
   "execution_count": 23,
   "id": "fb9c9a6f-6ba3-4e5d-b5c1-daf8672deded",
   "metadata": {},
   "outputs": [
    {
     "name": "stdout",
     "output_type": "stream",
     "text": [
      "Epoch 1/10, Loss: 0.3444\n",
      "Epoch 2/10, Loss: 0.2163\n",
      "Epoch 3/10, Loss: 0.1732\n",
      "Epoch 4/10, Loss: 0.1560\n",
      "Epoch 5/10, Loss: 0.1483\n",
      "Epoch 6/10, Loss: 0.1377\n",
      "Epoch 7/10, Loss: 0.1361\n",
      "Epoch 8/10, Loss: 0.1384\n",
      "Epoch 9/10, Loss: 0.1376\n",
      "Epoch 10/10, Loss: 0.1399\n"
     ]
    }
   ],
   "source": [
    "import torch.optim as optim\n",
    "\n",
    "def train_model(model, features, labels, epochs=10):\n",
    "    criterion = nn.CrossEntropyLoss()\n",
    "    optimizer = optim.Adam(model.parameters(), lr=0.001)\n",
    "\n",
    "    for epoch in range(epochs):\n",
    "        total_loss = 0\n",
    "        for i in range(len(features)):\n",
    "            x = features[i].unsqueeze(0)  # Model expects batch input\n",
    "            y = labels[i].unsqueeze(0)\n",
    "\n",
    "            optimizer.zero_grad()\n",
    "            output = model(x)\n",
    "            loss = criterion(output, y)\n",
    "            loss.backward()\n",
    "            optimizer.step()\n",
    "\n",
    "            total_loss += loss.item()\n",
    "\n",
    "        print(f'Epoch {epoch + 1}/{epochs}, Loss: {total_loss / len(features):.4f}')\n",
    "\n",
    "# Train each model separately\n",
    "train_model(lstm_model, compressed_features, labels)"
   ]
  },
  {
   "cell_type": "code",
   "execution_count": 24,
   "id": "a1561318-705c-4da8-8a19-40073deb0bf5",
   "metadata": {},
   "outputs": [
    {
     "name": "stdout",
     "output_type": "stream",
     "text": [
      "Accuracy: 95.82%\n"
     ]
    }
   ],
   "source": [
    "import torch\n",
    "\n",
    "def evaluate_model(model, features, labels):\n",
    "    model.eval()  # Set the model to evaluation mode\n",
    "    correct = 0\n",
    "    total = len(labels)\n",
    "\n",
    "    with torch.no_grad():  # Disable gradient computation for evaluation\n",
    "        for i in range(len(features)):\n",
    "            x = features[i].unsqueeze(0)  # Add batch dimension\n",
    "            y = labels[i].unsqueeze(0)\n",
    "            \n",
    "            # Forward pass\n",
    "            output = model(x)\n",
    "            _, predicted = torch.max(output, 1)  # Get the index of the highest logit\n",
    "            \n",
    "            # Check if prediction is correct\n",
    "            correct += (predicted == y).sum().item()\n",
    "\n",
    "    accuracy = (correct / total) * 100\n",
    "    print(f'Accuracy: {accuracy:.2f}%')\n",
    "\n",
    "# Evaluate accuracy of the trained model\n",
    "evaluate_model(lstm_model, compressed_features, labels)\n"
   ]
  },
  {
   "cell_type": "code",
   "execution_count": 25,
   "id": "71101c9d-02cb-4a3f-af1c-14bc6e1601ca",
   "metadata": {},
   "outputs": [],
   "source": [
    "class AttentionLSTM(nn.Module):\n",
    "    def __init__(self, input_dim, hidden_dim, output_dim, n_layers=2):\n",
    "        super(AttentionLSTM, self).__init__()\n",
    "        self.lstm = nn.LSTM(input_dim, hidden_dim, n_layers, batch_first=True)\n",
    "        self.attention = nn.Linear(hidden_dim, 1)\n",
    "        self.fc = nn.Linear(hidden_dim, output_dim)\n",
    "\n",
    "    def forward(self, x):\n",
    "        h, _ = self.lstm(x)\n",
    "        attention_weights = torch.softmax(self.attention(h), dim=1)\n",
    "        context = torch.sum(attention_weights * h, dim=1)  # Weighted sum over time steps\n",
    "        out = self.fc(context)\n",
    "        return out\n",
    "\n",
    "# Initialize Attention model\n",
    "attention_model = AttentionLSTM(input_dim=input_dim, hidden_dim=hidden_dim, output_dim=output_dim)\n"
   ]
  },
  {
   "cell_type": "code",
   "execution_count": 26,
   "id": "533db5e0-409a-462e-b431-db6004ee0cc8",
   "metadata": {},
   "outputs": [
    {
     "name": "stdout",
     "output_type": "stream",
     "text": [
      "Epoch 1/10, Loss: 0.2894\n",
      "Epoch 2/10, Loss: 0.1644\n",
      "Epoch 3/10, Loss: 0.1387\n",
      "Epoch 4/10, Loss: 0.1251\n",
      "Epoch 5/10, Loss: 0.1162\n",
      "Epoch 6/10, Loss: 0.1128\n",
      "Epoch 7/10, Loss: 0.1123\n",
      "Epoch 8/10, Loss: 0.1118\n",
      "Epoch 9/10, Loss: 0.1329\n",
      "Epoch 10/10, Loss: 0.1517\n"
     ]
    }
   ],
   "source": [
    "import torch.optim as optim\n",
    "\n",
    "def train_model(model, features, labels, epochs=10):\n",
    "    criterion = nn.CrossEntropyLoss()\n",
    "    optimizer = optim.Adam(model.parameters(), lr=0.001)\n",
    "\n",
    "    for epoch in range(epochs):\n",
    "        total_loss = 0\n",
    "        for i in range(len(features)):\n",
    "            x = features[i].unsqueeze(0)  # Model expects batch input\n",
    "            y = labels[i].unsqueeze(0)\n",
    "\n",
    "            optimizer.zero_grad()\n",
    "            output = model(x)\n",
    "            loss = criterion(output, y)\n",
    "            loss.backward()\n",
    "            optimizer.step()\n",
    "\n",
    "            total_loss += loss.item()\n",
    "\n",
    "        print(f'Epoch {epoch + 1}/{epochs}, Loss: {total_loss / len(features):.4f}')\n",
    "\n",
    "\n",
    "train_model(attention_model, compressed_features, labels)\n"
   ]
  },
  {
   "cell_type": "code",
   "execution_count": 27,
   "id": "b628ee8e-f7f1-4a8e-b052-efc60c738beb",
   "metadata": {},
   "outputs": [
    {
     "name": "stdout",
     "output_type": "stream",
     "text": [
      "Accuracy: 94.87%\n"
     ]
    }
   ],
   "source": [
    "\n",
    "evaluate_model(attention_model, compressed_features, labels)\n"
   ]
  },
  {
   "cell_type": "code",
   "execution_count": 28,
   "id": "a517f3cf-3eda-49eb-b5d1-7dd1e5554fcf",
   "metadata": {},
   "outputs": [],
   "source": [
    "import torch\n",
    "import torch.nn as nn\n",
    "import torch.nn.functional as F\n",
    "\n",
    "class AdvancedAttentionLSTM(nn.Module):\n",
    "    def __init__(self, input_dim, hidden_dim, output_dim, n_layers=2, n_heads=4, attention_dim=64):\n",
    "        super(AdvancedAttentionLSTM, self).__init__()\n",
    "        self.lstm = nn.LSTM(input_dim, hidden_dim, n_layers, batch_first=True, bidirectional=True)\n",
    "        self.multihead_attention = nn.MultiheadAttention(embed_dim=2*hidden_dim, num_heads=n_heads, batch_first=True)\n",
    "        self.fc1 = nn.Linear(2 * hidden_dim, attention_dim)  # Intermediate fully connected layer\n",
    "        self.fc2 = nn.Linear(attention_dim, output_dim)      # Output layer\n",
    "\n",
    "    def forward(self, x):\n",
    "        # LSTM layer\n",
    "        lstm_out, _ = self.lstm(x)  # lstm_out shape: [batch_size, sequence_length, 2*hidden_dim]\n",
    "        \n",
    "        # Multi-Head Attention\n",
    "        attention_out, _ = self.multihead_attention(lstm_out, lstm_out, lstm_out)  # Self-attention on LSTM output\n",
    "        \n",
    "        # Aggregate across time steps by mean pooling or weighted attention pooling\n",
    "        pooled_out = torch.mean(attention_out, dim=1)  # Mean pooling across time\n",
    "        \n",
    "        # Fully connected layers\n",
    "        fc1_out = F.relu(self.fc1(pooled_out))         # Apply non-linearity after first FC layer\n",
    "        out = self.fc2(fc1_out)                        # Final output layer for classification\n",
    "\n",
    "        return out\n",
    "\n",
    "# Initialize the advanced attention model\n",
    "input_dim = compressed_features.size(2)  # Should match the encoding_dim from the autoencoder\n",
    "hidden_dim = 64\n",
    "output_dim = len(df['label'].unique())  # Number of classes\n",
    "attention_dim = 64\n",
    "n_heads = 4\n",
    "\n",
    "attention_model = AdvancedAttentionLSTM(input_dim=input_dim, hidden_dim=hidden_dim, output_dim=output_dim, n_heads=n_heads, attention_dim=attention_dim)"
   ]
  },
  {
   "cell_type": "code",
   "execution_count": 29,
   "id": "1a7a7554-cf85-4607-ac6c-1ec6bd3f4254",
   "metadata": {},
   "outputs": [
    {
     "name": "stdout",
     "output_type": "stream",
     "text": [
      "Epoch 1/10, Loss: 0.3130\n",
      "Epoch 2/10, Loss: 0.1966\n",
      "Epoch 3/10, Loss: 0.1780\n",
      "Epoch 4/10, Loss: 0.1687\n",
      "Epoch 5/10, Loss: 0.1642\n",
      "Epoch 6/10, Loss: 0.1611\n",
      "Epoch 7/10, Loss: 0.1632\n",
      "Epoch 8/10, Loss: 0.1590\n",
      "Epoch 9/10, Loss: 0.1609\n",
      "Epoch 10/10, Loss: 0.1625\n"
     ]
    }
   ],
   "source": [
    "# Train the advanced attention model\n",
    "train_model(attention_model, compressed_features, labels)\n"
   ]
  },
  {
   "cell_type": "code",
   "execution_count": 30,
   "id": "0ba2608e-b1a6-4f57-ad20-f596b84cf269",
   "metadata": {},
   "outputs": [
    {
     "name": "stdout",
     "output_type": "stream",
     "text": [
      "Accuracy: 96.35%\n"
     ]
    }
   ],
   "source": [
    "evaluate_model(attention_model, compressed_features, labels)\n"
   ]
  },
  {
   "cell_type": "code",
   "execution_count": 38,
   "id": "49ced8b8-2310-4db1-bf72-64a623feb1c5",
   "metadata": {},
   "outputs": [
    {
     "name": "stdout",
     "output_type": "stream",
     "text": [
      "Training features shape: (41026, 100, 32)\n",
      "Testing features shape: (10257, 100, 32)\n",
      "Training labels shape: (41026,)\n",
      "Testing labels shape: (10257,)\n"
     ]
    }
   ],
   "source": [
    "from sklearn.model_selection import train_test_split\n",
    "\n",
    "# Assume `compressed_features` and `labels` are tensors from the autoencoder's output\n",
    "# Convert them to numpy for easier manipulation with train_test_split\n",
    "compressed_features_np = compressed_features.numpy()\n",
    "labels_np = labels.numpy()\n",
    "\n",
    "# Split data into training and testing sets (80% train, 20% test)\n",
    "X_train, X_test, y_train, y_test = train_test_split(\n",
    "    compressed_features_np, labels_np, test_size=0.2, random_state=42\n",
    ")\n",
    "\n",
    "# Check the shape of each set\n",
    "print(\"Training features shape:\", X_train.shape)\n",
    "print(\"Testing features shape:\", X_test.shape)\n",
    "print(\"Training labels shape:\", y_train.shape)\n",
    "print(\"Testing labels shape:\", y_test.shape)\n"
   ]
  },
  {
   "cell_type": "code",
   "execution_count": 39,
   "id": "bf390d39-7e74-418d-a5ca-966bef999159",
   "metadata": {},
   "outputs": [],
   "source": [
    "# Convert back to PyTorch tensors\n",
    "X_train = torch.tensor(X_train, dtype=torch.float32)\n",
    "X_test = torch.tensor(X_test, dtype=torch.float32)\n",
    "y_train = torch.tensor(y_train, dtype=torch.long)\n",
    "y_test = torch.tensor(y_test, dtype=torch.long)\n"
   ]
  },
  {
   "cell_type": "code",
   "execution_count": 43,
   "id": "f0ae2f74-db1d-4641-9607-99561a568306",
   "metadata": {},
   "outputs": [
    {
     "name": "stdout",
     "output_type": "stream",
     "text": [
      "Training set shape: torch.Size([41026, 100, 32]) torch.Size([41026])\n",
      "Testing set shape: torch.Size([10257, 100, 32]) torch.Size([10257])\n"
     ]
    }
   ],
   "source": [
    "# Create PyTorch datasets and dataloaders\n",
    "train_dataset = TensorDataset(X_train, y_train)\n",
    "test_dataset = TensorDataset(X_test, y_test)\n",
    "\n",
    "train_loader = DataLoader(train_dataset, batch_size=32, shuffle=True)\n",
    "test_loader = DataLoader(test_dataset, batch_size=32, shuffle=False)\n",
    "\n",
    "# Check shapes to confirm\n",
    "print(\"Training set shape:\", X_train.shape, y_train.shape)\n",
    "print(\"Testing set shape:\", X_test.shape, y_test.shape)"
   ]
  },
  {
   "cell_type": "code",
   "execution_count": 47,
   "id": "53503823-bcef-4f77-ad02-a64e10d33915",
   "metadata": {},
   "outputs": [],
   "source": [
    "class TransformerModel(nn.Module):\n",
    "    def __init__(self, input_size, num_heads, hidden_size, output_size, num_layers=2):\n",
    "        super(TransformerModel, self).__init__()\n",
    "        \n",
    "        self.input_fc = nn.Linear(input_size, hidden_size)  # Project input to hidden size\n",
    "        self.transformer = Transformer(d_model=hidden_size, nhead=num_heads, num_encoder_layers=num_layers, batch_first=True)\n",
    "        self.fc = nn.Linear(hidden_size, output_size)  # Final output layer\n",
    "\n",
    "    def forward(self, x):\n",
    "        # x: [batch_size, seq_len, input_size]\n",
    "        x = self.input_fc(x)  # Map to [batch_size, seq_len, hidden_size]\n",
    "        x = self.transformer(x, x)  # Pass through Transformer\n",
    "        \n",
    "        # Use the last output of the sequence\n",
    "        x = x[:, -1, :]  # Take the last output for classification: [batch_size, hidden_size]\n",
    "        \n",
    "        return self.fc(x)  # [batch_size, output_size]\n"
   ]
  },
  {
   "cell_type": "code",
   "execution_count": 48,
   "id": "6a5e0467-c809-4ba6-a8e1-baf2763ee4a8",
   "metadata": {},
   "outputs": [],
   "source": [
    "import torch.optim as optim\n",
    "\n",
    "def train_model(model, train_loader, test_loader, num_epochs=5, learning_rate=0.001):\n",
    "    criterion = nn.CrossEntropyLoss()\n",
    "    optimizer = optim.Adam(model.parameters(), lr=learning_rate)\n",
    "\n",
    "    for epoch in range(num_epochs):\n",
    "        # Training phase\n",
    "        model.train()\n",
    "        running_loss = 0.0\n",
    "        correct = 0\n",
    "        total = 0\n",
    "\n",
    "        for inputs, labels in train_loader:\n",
    "            inputs, labels = inputs.float(), labels.long()\n",
    "            \n",
    "            optimizer.zero_grad()\n",
    "            outputs = model(inputs)\n",
    "\n",
    "            # Calculate loss and backpropagate\n",
    "            loss = criterion(outputs, labels)\n",
    "            loss.backward()\n",
    "            optimizer.step()\n",
    "            \n",
    "            running_loss += loss.item()\n",
    "            _, predicted = torch.max(outputs, 1)\n",
    "            total += labels.size(0)\n",
    "            correct += (predicted == labels).sum().item()\n",
    "        \n",
    "        train_accuracy = 100 * correct / total\n",
    "        print(f\"Epoch [{epoch+1}/{num_epochs}], Loss: {running_loss/len(train_loader):.4f}, Training Accuracy: {train_accuracy:.2f}%\")\n",
    "        \n",
    "        # Evaluation phase\n",
    "        model.eval()\n",
    "        correct = 0\n",
    "        total = 0\n",
    "        with torch.no_grad():\n",
    "            for inputs, labels in test_loader:\n",
    "                inputs, labels = inputs.float(), labels.long()\n",
    "                outputs = model(inputs)\n",
    "                _, predicted = torch.max(outputs, 1)\n",
    "                total += labels.size(0)\n",
    "                correct += (predicted == labels).sum().item()\n",
    "        \n",
    "        test_accuracy = 100 * correct / total\n",
    "        print(f\"Test Accuracy after epoch {epoch+1}: {test_accuracy:.2f}%\\n\")\n"
   ]
  },
  {
   "cell_type": "code",
   "execution_count": 50,
   "id": "47ce339f-4a24-499f-9754-9d5f4c2dd01b",
   "metadata": {},
   "outputs": [
    {
     "name": "stdout",
     "output_type": "stream",
     "text": [
      "Epoch [1/5], Loss: 0.2934, Training Accuracy: 89.45%\n",
      "Test Accuracy after epoch 1: 89.54%\n",
      "\n",
      "Epoch [2/5], Loss: 0.2134, Training Accuracy: 92.50%\n",
      "Test Accuracy after epoch 2: 95.14%\n",
      "\n",
      "Epoch [3/5], Loss: 0.1849, Training Accuracy: 93.60%\n",
      "Test Accuracy after epoch 3: 93.81%\n",
      "\n",
      "Epoch [4/5], Loss: 0.1668, Training Accuracy: 94.29%\n",
      "Test Accuracy after epoch 4: 92.65%\n",
      "\n",
      "Epoch [5/5], Loss: 0.1584, Training Accuracy: 94.71%\n",
      "Test Accuracy after epoch 5: 95.37%\n",
      "\n"
     ]
    }
   ],
   "source": [
    "# Model parameters\n",
    "input_size = compressed_features.size(2)  # Number of input features (e.g., 8 from compressed output)\n",
    "num_heads = 4        # Number of attention heads\n",
    "hidden_size = 64     # Hidden size for embedding and transformer layers\n",
    "output_size = len(torch.unique(labels))  # Number of output classes (e.g., 5 for the WESAD dataset)\n",
    "num_layers = 2       # Number of transformer layers\n",
    "\n",
    "# Initialize the model\n",
    "model = TransformerModel(input_size, num_heads, hidden_size, output_size, num_layers)\n",
    "\n",
    "# Train and evaluate the model\n",
    "train_model(model, train_loader, test_loader, num_epochs=5, learning_rate=0.001)\n"
   ]
  },
  {
   "cell_type": "code",
   "execution_count": null,
   "id": "fd93f2f4-2209-4fed-91b1-95ae25cba42b",
   "metadata": {},
   "outputs": [],
   "source": []
  },
  {
   "cell_type": "code",
   "execution_count": null,
   "id": "9fbb0e93-eb5c-4023-8bb7-765d76a690ca",
   "metadata": {},
   "outputs": [],
   "source": []
  },
  {
   "cell_type": "code",
   "execution_count": null,
   "id": "7d5bfa25-4f91-44f7-a550-c9f5a5ec0fdd",
   "metadata": {},
   "outputs": [],
   "source": []
  }
 ],
 "metadata": {
  "kernelspec": {
   "display_name": "Python 3 (ipykernel)",
   "language": "python",
   "name": "python3"
  },
  "language_info": {
   "codemirror_mode": {
    "name": "ipython",
    "version": 3
   },
   "file_extension": ".py",
   "mimetype": "text/x-python",
   "name": "python",
   "nbconvert_exporter": "python",
   "pygments_lexer": "ipython3",
   "version": "3.11.3"
  }
 },
 "nbformat": 4,
 "nbformat_minor": 5
}
